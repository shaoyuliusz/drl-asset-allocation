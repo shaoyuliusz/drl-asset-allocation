{
 "cells": [
  {
   "cell_type": "markdown",
   "metadata": {},
   "source": [
    "## Plot returns for best trained PPO models\n",
    "\n",
    "1. evaluate top 3 models selected using validation data, each for 10 times in the test environment with different seeds.\n",
    "2. evaluate bottom 3 models selected using validation data, each for 10 times in the test environment with different seeds."
   ]
  },
  {
   "cell_type": "code",
   "execution_count": 14,
   "metadata": {},
   "outputs": [],
   "source": [
    "import gymnasium as gym\n",
    "import numpy as np\n",
    "import torch\n",
    "import pandas as pd\n",
    "\n",
    "from src.models.ppo.ppo import Agent\n",
    "from src.env.environment import StockEnvTrade\n",
    "from src.utils.common_utils import DRL_prediction, make_env_test\n",
    "\n",
    "import warnings\n",
    "warnings.filterwarnings(\"ignore\")\n",
    "\n",
    "df_test = pd.read_csv(\"data/yahoo_finance_test.csv\")\n",
    "\n",
    "TOP_THREE_MODELS = [\"models/ppo/top/hyperparam_257/run3/torch_ppo.pt\", #2.921354\n",
    "                    \"models/ppo/top/hyperparam_11/run2/torch_ppo.pt\",  #2.778794\t\n",
    "                    \"models/ppo/top/hyperparam_269/run1/torch_ppo.pt\" #2.588476\n",
    "                    ]\n",
    "\n",
    "BOTTOM_THREE_MODELS = [\"example_models/ppo/bottom/hyperparam_253/run0/torch_ppo.pt\", #0.864143\n",
    "                       \"example_models/ppo/bottom/hyperparam_233/run1/torch_ppo.pt\", #0.838111\t\n",
    "                       \"example_models/ppo/bottom/hyperparam_193/run0/torch_ppo.pt\" #0.791893\t\n",
    "                       ]\n",
    "\n",
    "N_RUNS = 10 #evaluate 10 times\n",
    "\n",
    "def compute_returns(model_path: str, seed:int=None):\n",
    "\n",
    "    #initialize test environment\n",
    "    stock_env_trade = StockEnvTrade(df = df_test)\n",
    "    test_env = gym.vector.SyncVectorEnv(\n",
    "            [make_env_test(env_ = stock_env_trade, seed = seed) for i in range(1)]\n",
    "        )\n",
    "\n",
    "    model = Agent(envs=test_env, \n",
    "                input_dims=np.array(test_env.observation_space.shape).prod(),\n",
    "                output_dims=np.prod(test_env.action_space.shape))\n",
    "    model.load_state_dict(torch.load(model_path))\n",
    "\n",
    "    #reset test env\n",
    "    test_obs, _ = test_env.reset()\n",
    "\n",
    "    portfolio_weights = np.array(DRL_prediction(df_test, model, test_env, test_obs))\n",
    "    #print(portfolio_weights_ppo.shape) (353, 8)\n",
    "\n",
    "    return_stocks = df_test.pct_change()\n",
    "    return_stocks = np.sum(return_stocks.multiply(portfolio_weights), axis=1)\n",
    "    cumulative_returns_daily_drl = (1+return_stocks).cumprod()\n",
    "\n",
    "    return portfolio_weights, cumulative_returns_daily_drl"
   ]
  },
  {
   "cell_type": "code",
   "execution_count": 23,
   "metadata": {},
   "outputs": [
    {
     "name": "stdout",
     "output_type": "stream",
     "text": [
      "[1.8542403779637942, 1.8448013109379442, 1.7403536096958916, 1.9009783861544647, 1.8147427252309971, 1.8483653833593567, 1.7652351227252205, 1.809360557765692, 1.9140798937810588, 1.8502168743525742]\n",
      "1.8342374241966994\n"
     ]
    }
   ],
   "source": [
    "res = []\n",
    "for model_path in [TOP_THREE_MODELS[0]]:\n",
    "    for run in range(N_RUNS):\n",
    "        portfolio_weights, cum_return = compute_returns(model_path, seed=1)\n",
    "        res.append(cum_return.iloc[-1])\n",
    "print(res)\n",
    "print(np.mean(res))"
   ]
  },
  {
   "cell_type": "code",
   "execution_count": 24,
   "metadata": {},
   "outputs": [
    {
     "name": "stdout",
     "output_type": "stream",
     "text": [
      "[1.2582825857818454, 1.206927140410062, 1.1835705913585912, 1.1930471410464198, 1.1291261971670465, 1.1543192095577437, 1.3432990661030666, 1.1824383339171707, 1.220161266125231, 1.115790387055026]\n",
      "1.1986961918522203\n"
     ]
    }
   ],
   "source": [
    "res = []\n",
    "for model_path in [BOTTOM_THREE_MODELS[0]]:\n",
    "    for run in range(N_RUNS):\n",
    "        portfolio_weights, cum_return = compute_returns(model_path, seed=1)\n",
    "        res.append(cum_return.iloc[-1])\n",
    "print(res)\n",
    "print(np.mean(res))"
   ]
  }
 ],
 "metadata": {
  "kernelspec": {
   "display_name": "Python 3",
   "language": "python",
   "name": "python3"
  },
  "language_info": {
   "codemirror_mode": {
    "name": "ipython",
    "version": 3
   },
   "file_extension": ".py",
   "mimetype": "text/x-python",
   "name": "python",
   "nbconvert_exporter": "python",
   "pygments_lexer": "ipython3",
   "version": "3.11.5"
  }
 },
 "nbformat": 4,
 "nbformat_minor": 2
}
